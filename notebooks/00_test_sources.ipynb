{
 "cells": [
  {
   "cell_type": "code",
   "execution_count": 22,
   "id": "1afbc048",
   "metadata": {},
   "outputs": [],
   "source": [
    "import requests\n",
    "import json\n",
    "from dotenv import load_dotenv\n",
    "import os\n",
    "from bs4 import BeautifulSoup"
   ]
  },
  {
   "cell_type": "markdown",
   "id": "bdeaacf8",
   "metadata": {},
   "source": [
    "# NewsAPI Test"
   ]
  },
  {
   "cell_type": "code",
   "execution_count": 23,
   "id": "9e9fbec2",
   "metadata": {},
   "outputs": [],
   "source": [
    "load_dotenv()\n",
    "key = os.getenv(\"NEWS_API_KEY\")\n",
    "url = 'https://newsapi.org/v2/everything'"
   ]
  },
  {
   "cell_type": "code",
   "execution_count": 24,
   "id": "ab3adb1b",
   "metadata": {},
   "outputs": [],
   "source": [
    "params = {\n",
    "    'q' : 'bitcoin OR cryptocurrency OR inflation OR interest rates',\n",
    "    'language' : 'en',\n",
    "    'pageSize': 5,\n",
    "    'apiKey': key\n",
    "}"
   ]
  },
  {
   "cell_type": "code",
   "execution_count": 25,
   "id": "10bc1314",
   "metadata": {},
   "outputs": [],
   "source": [
    "r = requests.get(url, params=params)\n",
    "data= r.json()"
   ]
  },
  {
   "cell_type": "code",
   "execution_count": null,
   "id": "fccbba23",
   "metadata": {},
   "outputs": [
    {
     "name": "stdout",
     "output_type": "stream",
     "text": [
      "NewsApi:  5\n",
      "Primer titulo: Bitcoin Flash Crash Roils Crypto Market\n"
     ]
    }
   ],
   "source": [
    "with open(\"../data/00/sample_newsapi.json\", 'w', encoding='utf-8') as f:\n",
    "    json.dump(data, f, ensure_ascii=False, indent=2)\n",
    "\n",
    "print(\"NewsApi: \", len(data.get(\"articles\", [])))\n",
    "print('Primer titulo:', data[\"articles\"][0][\"title\"])"
   ]
  },
  {
   "cell_type": "markdown",
   "id": "13dcbef6",
   "metadata": {},
   "source": [
    "# CryptoCompare News API Test"
   ]
  },
  {
   "cell_type": "code",
   "execution_count": 27,
   "id": "44c09c8b",
   "metadata": {},
   "outputs": [],
   "source": [
    "url = \"https://min-api.cryptocompare.com/data/v2/news/\"\n",
    "params = {'lang':'EN'}\n",
    "r = requests.get(url, params=params)\n",
    "data = r.json()"
   ]
  },
  {
   "cell_type": "code",
   "execution_count": null,
   "id": "1db0394f",
   "metadata": {},
   "outputs": [
    {
     "name": "stdout",
     "output_type": "stream",
     "text": [
      "CryptoCompare:  50 articles\n",
      "Primer titulo: Bitcoin Price Astounding Surge: BTC Rockets Above $112,000\n"
     ]
    }
   ],
   "source": [
    "with open(\"../data/00/sample_cryptocompare.json\", 'w', encoding='utf-8') as f:\n",
    "    json.dump(data, f, ensure_ascii=False, indent=2)\n",
    "\n",
    "print(\"CryptoCompare: \", len(data.get(\"Data\", [])), \"articles\")\n",
    "print(\"Primer titulo:\", data[\"Data\"][0][\"title\"])"
   ]
  },
  {
   "cell_type": "markdown",
   "id": "cdec3a14",
   "metadata": {},
   "source": [
    "# Infobae scraping test"
   ]
  },
  {
   "cell_type": "code",
   "execution_count": 29,
   "id": "a5249152",
   "metadata": {},
   "outputs": [],
   "source": [
    "url = \"https://www.infobae.com/economia/\"\n",
    "r = requests.get(url)\n",
    "soup = BeautifulSoup(r.content, 'html.parser')"
   ]
  },
  {
   "cell_type": "code",
   "execution_count": null,
   "id": "47839ec6",
   "metadata": {},
   "outputs": [
    {
     "name": "stdout",
     "output_type": "stream",
     "text": [
      "Infobae:  5 artículos\n",
      "Primer título: El Gobierno asegura que llegó a un acuerdo con los controladores aéreos y que se levantará la medida de  fuerza\n"
     ]
    }
   ],
   "source": [
    "titulos = [h2.get_text(strip=True) for h2 in soup.find_all(\"h2\")[:5]]\n",
    "\n",
    "with open(\"../data/00/sample_infobae.html\", \"w\", encoding=\"utf-8\") as f:\n",
    "    f.write(r.text)\n",
    "with open(\"../data/sample_infobae_titles.json\", 'w', encoding='utf-8') as f:\n",
    "    json.dump(titulos, f, ensure_ascii=False, indent=2)\n",
    "\n",
    "print(\"Infobae: \", len(titulos), \"artículos\")\n",
    "print(\"Primer título:\", titulos[0] if titulos else \"No disponible\")"
   ]
  },
  {
   "cell_type": "code",
   "execution_count": null,
   "id": "ded3734b",
   "metadata": {},
   "outputs": [],
   "source": []
  }
 ],
 "metadata": {
  "kernelspec": {
   "display_name": "base",
   "language": "python",
   "name": "python3"
  },
  "language_info": {
   "codemirror_mode": {
    "name": "ipython",
    "version": 3
   },
   "file_extension": ".py",
   "mimetype": "text/x-python",
   "name": "python",
   "nbconvert_exporter": "python",
   "pygments_lexer": "ipython3",
   "version": "3.11.9"
  }
 },
 "nbformat": 4,
 "nbformat_minor": 5
}
