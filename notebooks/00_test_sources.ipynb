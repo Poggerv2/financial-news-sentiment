{
 "cells": [
  {
   "cell_type": "code",
   "execution_count": 1,
   "id": "1afbc048",
   "metadata": {},
   "outputs": [],
   "source": [
    "import requests\n",
    "import json\n",
    "from dotenv import load_dotenv\n",
    "import os\n",
    "from bs4 import BeautifulSoup\n",
    "from datetime import datetime\n",
    "import hashlib"
   ]
  },
  {
   "cell_type": "markdown",
   "id": "bdeaacf8",
   "metadata": {},
   "source": [
    "# NewsAPI Test"
   ]
  },
  {
   "cell_type": "code",
   "execution_count": 23,
   "id": "9e9fbec2",
   "metadata": {},
   "outputs": [],
   "source": [
    "load_dotenv()\n",
    "key = os.getenv(\"NEWS_API_KEY\")\n",
    "url = 'https://newsapi.org/v2/everything'"
   ]
  },
  {
   "cell_type": "code",
   "execution_count": 24,
   "id": "ab3adb1b",
   "metadata": {},
   "outputs": [],
   "source": [
    "params = {\n",
    "    'q' : 'bitcoin OR cryptocurrency OR inflation OR interest rates',\n",
    "    'language' : 'en',\n",
    "    'pageSize': 5,\n",
    "    'apiKey': key\n",
    "}"
   ]
  },
  {
   "cell_type": "code",
   "execution_count": 25,
   "id": "10bc1314",
   "metadata": {},
   "outputs": [],
   "source": [
    "r = requests.get(url, params=params)\n",
    "data= r.json()"
   ]
  },
  {
   "cell_type": "code",
   "execution_count": null,
   "id": "fccbba23",
   "metadata": {},
   "outputs": [
    {
     "name": "stdout",
     "output_type": "stream",
     "text": [
      "NewsApi:  5\n",
      "Primer titulo: Bitcoin Flash Crash Roils Crypto Market\n"
     ]
    }
   ],
   "source": [
    "with open(\"../data/00/sample_newsapi.json\", 'w', encoding='utf-8') as f:\n",
    "    json.dump(data, f, ensure_ascii=False, indent=2)\n",
    "\n",
    "print(\"NewsApi: \", len(data.get(\"articles\", [])))\n",
    "print('Primer titulo:', data[\"articles\"][0][\"title\"])"
   ]
  },
  {
   "cell_type": "markdown",
   "id": "13dcbef6",
   "metadata": {},
   "source": [
    "# CryptoCompare News API Test"
   ]
  },
  {
   "cell_type": "code",
   "execution_count": 27,
   "id": "44c09c8b",
   "metadata": {},
   "outputs": [],
   "source": [
    "url = \"https://min-api.cryptocompare.com/data/v2/news/\"\n",
    "params = {'lang':'EN'}\n",
    "r = requests.get(url, params=params)\n",
    "data = r.json()"
   ]
  },
  {
   "cell_type": "code",
   "execution_count": null,
   "id": "1db0394f",
   "metadata": {},
   "outputs": [
    {
     "name": "stdout",
     "output_type": "stream",
     "text": [
      "CryptoCompare:  50 articles\n",
      "Primer titulo: Bitcoin Price Astounding Surge: BTC Rockets Above $112,000\n"
     ]
    }
   ],
   "source": [
    "with open(\"../data/00/sample_cryptocompare.json\", 'w', encoding='utf-8') as f:\n",
    "    json.dump(data, f, ensure_ascii=False, indent=2)\n",
    "\n",
    "print(\"CryptoCompare: \", len(data.get(\"Data\", [])), \"articles\")\n",
    "print(\"Primer titulo:\", data[\"Data\"][0][\"title\"])"
   ]
  },
  {
   "cell_type": "markdown",
   "id": "cdec3a14",
   "metadata": {},
   "source": [
    "# Infobae scraping test"
   ]
  },
  {
   "cell_type": "code",
   "execution_count": 29,
   "id": "a5249152",
   "metadata": {},
   "outputs": [],
   "source": [
    "url = \"https://www.infobae.com/economia/\"\n",
    "r = requests.get(url)\n",
    "soup = BeautifulSoup(r.content, 'html.parser')"
   ]
  },
  {
   "cell_type": "code",
   "execution_count": null,
   "id": "47839ec6",
   "metadata": {},
   "outputs": [
    {
     "name": "stdout",
     "output_type": "stream",
     "text": [
      "Infobae:  5 artículos\n",
      "Primer título: El Gobierno asegura que llegó a un acuerdo con los controladores aéreos y que se levantará la medida de  fuerza\n"
     ]
    }
   ],
   "source": [
    "titulos = [h2.get_text(strip=True) for h2 in soup.find_all(\"h2\")[:5]]\n",
    "\n",
    "with open(\"../data/00/sample_infobae.html\", \"w\", encoding=\"utf-8\") as f:\n",
    "    f.write(r.text)\n",
    "with open(\"../data/sample_infobae_titles.json\", 'w', encoding='utf-8') as f:\n",
    "    json.dump(titulos, f, ensure_ascii=False, indent=2)\n",
    "\n",
    "print(\"Infobae: \", len(titulos), \"artículos\")\n",
    "print(\"Primer título:\", titulos[0] if titulos else \"No disponible\")"
   ]
  },
  {
   "cell_type": "markdown",
   "id": "1ea9e406",
   "metadata": {},
   "source": []
  },
  {
   "cell_type": "markdown",
   "metadata": {},
   "source": []
  },
  {
   "cell_type": "code",
   "execution_count": 2,
   "id": "ded3734b",
   "metadata": {},
   "outputs": [],
   "source": [
    "base_url = \"https://www.infobae.com\"\n",
    "search_url = \"https://www.infobae.com/buscar/cripto/\""
   ]
  },
  {
   "cell_type": "code",
   "execution_count": 3,
   "id": "301d51dc",
   "metadata": {},
   "outputs": [],
   "source": [
    "headers = {'User-Agent': 'Mozilla/5.0'}\n",
    "response = requests.get(search_url, headers=headers)\n",
    "soup = BeautifulSoup(response.text, 'html.parser')"
   ]
  },
  {
   "cell_type": "code",
   "execution_count": 4,
   "id": "9c7ac717",
   "metadata": {},
   "outputs": [],
   "source": [
    "containers = soup.find_all('div', class_='queryly_item_container')"
   ]
  },
  {
   "cell_type": "code",
   "execution_count": 7,
   "id": "c38dd282",
   "metadata": {},
   "outputs": [
    {
     "name": "stdout",
     "output_type": "stream",
     "text": [
      "Encontradas 0 noticias\n"
     ]
    }
   ],
   "source": [
    "import requests\n",
    "from bs4 import BeautifulSoup\n",
    "from datetime import datetime\n",
    "import hashlib\n",
    "\n",
    "BASE_URL = \"https://www.infobae.com\"\n",
    "SEARCH_URL = \"https://www.infobae.com/buscar/cripto/\"\n",
    "\n",
    "headers = {\"User-Agent\": \"Mozilla/5.0\"}\n",
    "response = requests.get(SEARCH_URL, headers=headers)\n",
    "soup = BeautifulSoup(response.text, \"html.parser\")\n",
    "\n",
    "containers = soup.find_all(\"div\", class_=\"queryly_item_container\")\n",
    "\n",
    "data = []\n",
    "for cont in containers:\n",
    "    title_tag = cont.find(\"a\", class_=\"resultlink double-teaser__title\")\n",
    "    desc_tag = cont.find(\"span\", class_=\"queryly_item_description\")\n",
    "    date_tag = cont.find(\"div\", class_=\"queryly_item_pubdate\")\n",
    "    img_tag = cont.find(\"div\", class_=\"queryly_item_imagecontainer\")\n",
    "\n",
    "    if not title_tag:\n",
    "        continue\n",
    "\n",
    "    # URL absoluta\n",
    "    link = title_tag.get(\"href\")\n",
    "    if link.startswith(\"/\"):\n",
    "        link = BASE_URL + link\n",
    "\n",
    "    # Generar ID a partir de la URL\n",
    "    id_hash = hashlib.md5(link.encode()).hexdigest()\n",
    "\n",
    "    # Extraer imagen del estilo inline\n",
    "    img_url = None\n",
    "    if img_tag and \"background-image\" in img_tag.get(\"style\", \"\"):\n",
    "        style = img_tag[\"style\"]\n",
    "        start = style.find(\"url(\")\n",
    "        end = style.find(\")\", start)\n",
    "        if start != -1 and end != -1:\n",
    "            img_url = style[start+4:end].replace(\"'\", \"\").replace('\"', \"\")\n",
    "\n",
    "    item = {\n",
    "        \"id\": id_hash,\n",
    "        \"title\": title_tag.get_text(strip=True),\n",
    "        \"description\": desc_tag.get_text(strip=True) if desc_tag else None,\n",
    "        \"content\": None,  # pendiente al entrar al artículo\n",
    "        \"url\": link,\n",
    "        \"source\": \"Infobae\",\n",
    "        \"published_at\": date_tag.get_text(strip=True) if date_tag else None,\n",
    "        \"collected_at\": datetime.utcnow().isoformat(),\n",
    "        \"extra\": {\"image_url\": img_url}\n",
    "    }\n",
    "    data.append(item)\n",
    "\n",
    "print(f\"Encontradas {len(data)} noticias\")\n",
    "for d in data[:2]:\n",
    "    print(d)\n"
   ]
  },
  {
   "cell_type": "code",
   "execution_count": 12,
   "id": "9abf438b",
   "metadata": {},
   "outputs": [
    {
     "name": "stdout",
     "output_type": "stream",
     "text": [
      "Se extrajeron 27 artículos con contenido completo\n",
      "{'id': 'f968a8c03beee75ab68e4b60372ae127', 'title': 'Ethereum: a cuánto cotiza este sábado 30 de agosto', 'description': 'Mundo cripto', 'content': 'La cotización de la criptomonedaEthereumy eleurode este sábado, 30 de agosto de 2025 en España es de5.104,15 euros. En base a este precio, la variación de dicho activo digital en comparación con el día pasado es de 0,22%.\\nEl precio del Ethereum y el euro ha mostrado una tendencia positiva en los últimos días. Esto indica que ambos activos están en un proceso de crecimiento sostenido.\\nEn la última semana, la cotización de la criptomoneda Ethereum ha experimentado un leve descenso del -0.32%, lo que sugiere una estabilidad en su valor a corto plazo. Sin embargo, al observar su evolución en el último año, se destaca un notable incremento del 41.81%, evidenciando un crecimiento significativo y una rentabilidad atractiva para los inversores a largo plazo. Esta combinación de resultados refleja la volatilidad inherente al mercado de criptomonedas, así como el potencial de Ethereum como una opción de inversión sólida.\\nEn la última semana, la cotización de la criptomoneda Ethereum ha experimentado un leve descenso del -0.32%, lo que sugiere una estabilidad en su valor a corto plazo. Sin embargo, al observar su evolución en el último año, se destaca un notable incremento del 41.81%, evidenciando un crecimiento significativo y una rentabilidad atractiva para los inversores a largo plazo. Esta combinación de resultados refleja la volatilidad inherente al mercado de criptomonedas, así como el potencial de Ethereum como una opción de inversión sólida.\\nLa volatilidad económica de Ethereum en la última semana ha sido del 62.86%, lo que es mayor que la volatilidad anual del 62.69%, indicando que su comportamiento es inestable y presenta muchas variaciones.\\nLa volatilidad económica de Ethereum en la última semana ha sido del 62.86%, lo que es mayor que la volatilidad anual del 62.69%, indicando que su comportamiento es inestable y presenta muchas variaciones.\\nDurante los últimos 12 meses, elEthereumha llegado a costar en elmercado españolen un máximo de 5.610,7 euros mientras que su nivel más bajo ha sido 1.607,4 euros.', 'url': 'https://www.cronista.com/espana/criptomonedas-es/ethereum-a-cuanto-cotiza-este-sabado-30-de-agosto/', 'source': 'El Cronista', 'published_at': 'Actualizado el   30 de Agosto de 202515:09', 'collected_at': '2025-08-31T01:59:23.378753', 'extra': {'image_url': 'data:image/png;base64,iVBORw0KGgoAAAANSUhEUgAAAmkAAAFbAQMAAAC05YuqAAAAA1BMVEUAAACnej3aAAAAAXRSTlMAQObYZgAAADFJREFUeJztwTEBAAAAwqD1T20IX6AAAAAAAAAAAAAAAAAAAAAAAAAAAAAAAAAAAOA0axUAAVNxUlUAAAAASUVORK5CYII='}}\n",
      "{'id': 'b21a773b2a42347104b70962e40c1081', 'title': 'Bitcoin Cash: a cuánto cotiza este sábado 30 de agosto', 'description': 'Criptomonedas', 'content': 'Este sábado, 30 de agosto de 2025 en España, la cotización delBitcoin Cashy eleuroes de639,25 euros, cifra que refleja una variación del 3,04% en comparación con el día de ayer.\\nLa tendencia del precio del Bitcoin Cash y el euro ha sido positiva en los últimos días, ya que el dato de 1 es positivo.Esto sugiere un aumento en el valor de ambos activos, lo que podría indicar un mayor interés del mercado o una recuperación económica.\\nLa tendencia del precio del Bitcoin Cash y el euro ha sido positiva en los últimos días, ya que el dato de 1 es positivo.\\nEsto sugiere un aumento en el valor de ambos activos, lo que podría indicar un mayor interés del mercado o una recuperación económica.\\nEn la última semana, la cotización de Bitcoin Cash ha experimentado un leve cambio del 0.27%, lo que indica una estabilidad en su valor a corto plazo. Sin embargo, al analizar su evolución en el último año, se observa un crecimiento significativo del 37.4%, lo que refleja un aumento en la rentabilidad y el interés de los inversores en esta criptomoneda. Esta combinación de estabilidad reciente y crecimiento a largo plazo sugiere un potencial atractivo para quienes buscan diversificar su portafolio en el mercado de criptomonedas.\\nEn la última semana, la cotización de Bitcoin Cash ha experimentado un leve cambio del 0.27%, lo que indica una estabilidad en su valor a corto plazo. Sin embargo, al analizar su evolución en el último año, se observa un crecimiento significativo del 37.4%, lo que refleja un aumento en la rentabilidad y el interés de los inversores en esta criptomoneda. Esta combinación de estabilidad reciente y crecimiento a largo plazo sugiere un potencial atractivo para quienes buscan diversificar su portafolio en el mercado de criptomonedas.\\nLa volatilidad económica de la última semana de Bitcoin Cash, con un 55.12%, es menor que la volatilidad anual del 66.09%, lo que indica que su comportamiento es mucho más estable en el último año.\\nLa volatilidad económica de la última semana de Bitcoin Cash, con un 55.12%, es menor que la volatilidad anual del 66.09%, lo que indica que su comportamiento es mucho más estable en el último año.\\nDurante los últimos 12 meses, elBitcoin Cashha llegado a costar en elmercado españolen un máximo de 720,1 euros mientras que su nivel más bajo ha sido 293,6 euros.', 'url': 'https://www.cronista.com/espana/criptomonedas-es/bitcoin-cash-a-cuanto-cotiza-este-sabado-30-de-agosto/', 'source': 'El Cronista', 'published_at': 'Actualizado el   30 de Agosto de 202515:08', 'collected_at': '2025-08-31T01:59:23.819435', 'extra': {'image_url': 'data:image/png;base64,iVBORw0KGgoAAAANSUhEUgAAASwAAACpAQMAAACruZLpAAAAA1BMVEUAAACnej3aAAAAAXRSTlMAQObYZgAAAB1JREFUWIXtwTEBAAAAwqD1T20ND6AAAAAAAAA4Mhm/AAEAspRDAAAAAElFTkSuQmCC'}}\n",
      "{'id': 'dc6f86b0c610247e1dd6a8e60dbff645', 'title': 'Bitcoin: a cuánto cotiza este sábado 30 de agosto', 'description': 'Mundo cripto', 'content': 'La cotización de la criptomonedaBitcoiny eleurode este sábado, 30 de agosto de 2025 en España es de127.142,25 euros. En base a este precio, la variación de dicho activo digital en comparación con el día pasado es de 0,4%.\\nEl precio del Bitcoin ha mostrado una tendencia positiva en los últimos días, mientras que el euro ha mantenido una tendencia estable. Esto sugiere que el interés en Bitcoin está en aumento, mientras que el euro no presenta cambios significativos en su valor.\\nEn la última semana, la cotización de Bitcoin ha experimentado una ligera caída del -1.4%, lo que refleja una fase de corrección en su valor. Sin embargo, al observar su evolución en el último año, se destaca un crecimiento significativo del 25.48%, evidenciando la rentabilidad a largo plazo de esta criptomoneda. A pesar de las fluctuaciones a corto plazo, Bitcoin continúa siendo una opción atractiva para los inversores que buscan aprovechar su potencial de apreciación.\\nEn la última semana, la cotización de Bitcoin ha experimentado una ligera caída del -1.4%, lo que refleja una fase de corrección en su valor. Sin embargo, al observar su evolución en el último año, se destaca un crecimiento significativo del 25.48%, evidenciando la rentabilidad a largo plazo de esta criptomoneda. A pesar de las fluctuaciones a corto plazo, Bitcoin continúa siendo una opción atractiva para los inversores que buscan aprovechar su potencial de apreciación.\\nLa volatilidad económica de Bitcoin en la última semana ha sido del 29.23%, lo que indica que su comportamiento es mucho más estable en comparación con la volatilidad anual del 40.69%.\\nLa volatilidad económica de Bitcoin en la última semana ha sido del 29.23%, lo que indica que su comportamiento es mucho más estable en comparación con la volatilidad anual del 40.69%.\\nDurante los últimos 12 meses, elBitcoinha llegado a cotizar en elmercado españolen un máximo de 144.026,2 euros mientras que su nivel más bajo ha sido 83.257,2 euros.', 'url': 'https://www.cronista.com/espana/criptomonedas-es/bitcoin-a-cuanto-cotiza-este-sabado-30-de-agosto/', 'source': 'El Cronista', 'published_at': 'Actualizado el   30 de Agosto de 202515:08', 'collected_at': '2025-08-31T01:59:24.221894', 'extra': {'image_url': None}}\n",
      "{'id': 'ccc1aced91c42e671be0d36fe2c5e362', 'title': '¿Se dispara Bitcoin? La nueva proyección de este pionero cripto que entusiasma al mercado', 'description': 'Criptomonedas', 'content': '\\nBitcoin (BTC)atraviesa un agosto con ciertos altibajos. La principalcriptomonedadel ecosistema financiero\\xa0alcanzó su pico máximo (u$s124,457.12) el miércoles 13 de este mes, aunque no logró sostener su tendencia al alza.\\nTal es así que el activo estrella retrocedió durante los últimos días yse estancó por debajo de losu$s 110.000, cotizando este martes en la zona de losu$s 109.000.\\n\"Estas correcciones son comunes y forman parte de un ciclo natural del mercado. Sin embargo, tras esta fase, se prevé un fuerte impulso alcista: Bitcoin podríaalcanzar niveles cercanos a los u$s 131.000, lo que representaría un crecimiento superior al 25% desde los precios actuales\", explicóJacobo Maximiliano, analista de Bitget.\\nY remarcó: \"Este escenario optimista se sustenta también en factores macroeconómicos actuales. En Estados Unidos,la reciente estabilidad en los indicadores de inflación ha generado expectativas de una pausa o desaceleración en los incrementos de las tasas de interés por parte de la Reserva Federal (Fed), lo que suele ser positivo para activos de riesgo como las criptomonedas\".\\nBajo este contexto,Michael Saylor, cofundador y presidente deStrategy, una de las empresas favoritas del mundo cripto, lanzó unanueva proyección sobre el precio de Bitcoin.\\nDurante una reciente entrevista conCNBC, el empresario aseguró que la monedapodría incrementar su valor un 30% anual en los próximos 20 años. Es que, según argumentó, su vaticinio se ampara en tres aspectos clave:la escasez,transparencia y accesibilidad global de BTC. A su vez, resaltó que la oferta está limitada a21 millones de monedas, siendo el criptoactivo líder a nivel mundial.\\n\\nIncluso, hace algunas semanas, el gurú cripto también había recomendado a los inversores que\"ignoren a los osos\"-quienes creen que los precios van a caer y buscan beneficiarse de esa tendencia-,obvien la volatilidad de la criptomoneda y centren su foco a largo plazo.\\n\"Bitcoin está en oferta\", afirmó Saylor en un posteo en su cuenta de X (exTwitter), en el que brindó pistas sobre una nueva compra que realizó su compañía.', 'url': 'https://www.cronista.com/infotechnology/finanzas-digitales/se-dispara-bitcoin-la-nueva-proyeccion-de-michael-saylor-que-entusiasma-al-mercado/', 'source': 'El Cronista', 'published_at': 'Actualizado el   27 de Agosto de 202508:27', 'collected_at': '2025-08-31T01:59:24.674812', 'extra': {'image_url': 'data:image/png;base64,iVBORw0KGgoAAAANSUhEUgAAASwAAACpAQMAAACruZLpAAAAA1BMVEUAAACnej3aAAAAAXRSTlMAQObYZgAAAB1JREFUWIXtwTEBAAAAwqD1T20ND6AAAAAAAAA4Mhm/AAEAspRDAAAAAElFTkSuQmCC'}}\n",
      "{'id': '6bb4c4d67700c6e3bddacdc7b7f901dd', 'title': 'Expectativa por el dólar: cuál es el nuevo precio que ahora anticipan en cuevas virtuales', 'description': 'Cotizaciones', 'content': '\\n\\n\\n\\nElprecio deldólar oficialse mantiene estable este martes 26 agosto, bajo la tensa mirada del mercado. Así, la moneda estadounidense cotiza a$ 1.370para la venta y $ 1.330 para la compra en el Banco Nación. Por su parte, eldólar bluebaja $ 5 y se negocia a $ 1.360 para la venta y de $ 1.340 para la compra.\\nEn tanto, las cuevas virtuales y exchanges cripto operan preciosque hoy se encuentran en línea con las cotizaciones anteriores. En las plataformas digitales en línea se negocia la compraventa destablecoins, también conocidas comodólar cripto, y que muchos ven como una versión digital del tradicionaldólar blue. No obstante, su precio actual suele ubicarse en un intermedio entre el informal, el MEP y el oficial.\\nDe hecho, las stablecoins que más se usan en la Argentina son las quesiguen el valor del dólar en una relación 1 a 1, como USDT o DAI. Gracias a esto, representan una opción digital de fácil adopción para dolarizar los ahorros.\\nMuchos ahorristas consideran que lascotizaciones de lasstablecoinsson untermómetro clavea seguir, dado que anticipa los movimientos futuros del tipo de cambio, sobre todo deldólar blue, en el país. A continuación, los detalles.\\nEldólar cripto USDTcotiza este martes a$ 1.364,9en el popular exchange Binance, alrededor de las 17.20 hs.\\nDe esta manera, el precio del dólar cripto se ubica por debajo del deldólaroficial ($ 1.370), pero por encima del dólar blue ($ 1.360) y del MEP ($1.354).\\nLos valores varían entre distintos exchanges o cuevas virtuales y, según señala CriptoYa, las cotizaciones pueden estar entre los$ 1.360y los$ 1.390.\\nUSDT (Tether)es, hoy en día, la stablecoin más aceptada del mercado cripto, además de ser la que goza de unmayor nivel de comercializaciónentre los ahorristas en la Argentina. De hecho, su volumen se encuentra incluso por encima de Bitcoin y Ethereum.\\nSe puede comprar el \"dólar cripto\" USDTen cualquier cantidad y momento del día, además de que mantiene una relación 1:1 con el dólar. Por eso, son varios los analistas que consideran que su cotización refleja la demanda real y la confianza enel dólarcomo una moneda más estable y fiable en comparación con el peso argentino.\\nHay que considerar que, en ocasiones como elecciones y otros eventos significativos que ocurrieron cuando el mercado del dólar blue está cerrado, los movimientos de stablecoins comoUSDTyDAIanticiparon lo que ocurriría con la cotización deldólar blue.', 'url': 'https://www.cronista.com/infotechnology/finanzas-digitales/expectativa-por-el-dolar-cual-es-el-nuevo-precio-que-ahora-anticipan-en-cuevas-virtuales-6298/', 'source': 'El Cronista', 'published_at': 'Actualizado el   26 de Agosto de 202517:23', 'collected_at': '2025-08-31T01:59:25.091898', 'extra': {'image_url': 'data:image/png;base64,iVBORw0KGgoAAAANSUhEUgAAASwAAACpAQMAAACruZLpAAAAA1BMVEUAAACnej3aAAAAAXRSTlMAQObYZgAAAB1JREFUWIXtwTEBAAAAwqD1T20ND6AAAAAAAAA4Mhm/AAEAspRDAAAAAElFTkSuQmCC'}}\n"
     ]
    }
   ],
   "source": [
    "import requests\n",
    "from bs4 import BeautifulSoup\n",
    "from datetime import datetime\n",
    "import hashlib\n",
    "\n",
    "BASE_URL = \"https://www.cronista.com\"\n",
    "SECTION_URL = \"https://www.cronista.com/criptomonedas/\"\n",
    "\n",
    "headers = {\"User-Agent\": \"Mozilla/5.0\"}\n",
    "\n",
    "# Primero sacamos la lista de artículos (tarjetas)\n",
    "response = requests.get(SECTION_URL, headers=headers)\n",
    "soup = BeautifulSoup(response.text, \"html.parser\")\n",
    "articles = soup.find_all(\"article\", class_=lambda x: x and \"item\" in x)\n",
    "\n",
    "data = []\n",
    "\n",
    "for art in articles:\n",
    "    a_tag = art.find(\"a\", class_=\"link\")\n",
    "    if not a_tag:\n",
    "        continue\n",
    "\n",
    "    title_tag = a_tag.find(\"h2\", class_=\"title\")\n",
    "    kicker_tag = a_tag.find(\"span\", class_=\"kicker\")\n",
    "    img_tag = art.find(\"div\", class_=\"image\").find(\"img\") if art.find(\"div\", class_=\"image\") else None\n",
    "\n",
    "    link = a_tag.get(\"href\")\n",
    "    if link.startswith(\"/\"):\n",
    "        link = BASE_URL + link\n",
    "\n",
    "    id_hash = hashlib.md5(link.encode()).hexdigest()\n",
    "    img_url = img_tag[\"src\"] if img_tag else None\n",
    "\n",
    "    # ---- Extraer contenido completo y fecha ----\n",
    "    try:\n",
    "        art_resp = requests.get(link, headers=headers)\n",
    "        art_soup = BeautifulSoup(art_resp.text, \"html.parser\")\n",
    "\n",
    "        # Contenido: todos los <p> dentro de content-media\n",
    "        body = art_soup.find(\"div\", class_=\"block-content\")\n",
    "        content = \"\\n\".join([p.get_text(strip=True) for p in body.find_all(\"p\")]) if body else None\n",
    "\n",
    "        # Fecha: <time> o <span class=\"date\">\n",
    "        time_tag = art_soup.find(\"time\") or art_soup.find(\"span\", class_=\"date\")\n",
    "        published_at = time_tag.get_text(strip=True) if time_tag else None\n",
    "\n",
    "    except Exception as e:\n",
    "        print(f\"Error al extraer {link}: {e}\")\n",
    "        content = None\n",
    "        published_at = None\n",
    "\n",
    "    item = {\n",
    "        \"id\": id_hash,\n",
    "        \"title\": title_tag.get_text(strip=True) if title_tag else None,\n",
    "        \"description\": kicker_tag.get_text(strip=True) if kicker_tag else None,\n",
    "        \"content\": content,\n",
    "        \"url\": link,\n",
    "        \"source\": \"El Cronista\",\n",
    "        \"published_at\": published_at,\n",
    "        \"collected_at\": datetime.utcnow().isoformat(),\n",
    "        \"extra\": {\"image_url\": img_url}\n",
    "    }\n",
    "\n",
    "    data.append(item)\n",
    "\n",
    "print(f\"Se extrajeron {len(data)} artículos con contenido completo\")\n",
    "for d in data[:5]:\n",
    "    print(d)\n"
   ]
  },
  {
   "cell_type": "code",
   "execution_count": null,
   "id": "64cb635d",
   "metadata": {},
   "outputs": [],
   "source": []
  }
 ],
 "metadata": {
  "kernelspec": {
   "display_name": "base",
   "language": "python",
   "name": "python3"
  },
  "language_info": {
   "codemirror_mode": {
    "name": "ipython",
    "version": 3
   },
   "file_extension": ".py",
   "mimetype": "text/x-python",
   "name": "python",
   "nbconvert_exporter": "python",
   "pygments_lexer": "ipython3",
   "version": "3.11.9"
  }
 },
 "nbformat": 4,
 "nbformat_minor": 5
}
