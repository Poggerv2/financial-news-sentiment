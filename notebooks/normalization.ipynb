{
 "cells": [
  {
   "cell_type": "code",
   "execution_count": 117,
   "id": "0797962a",
   "metadata": {},
   "outputs": [],
   "source": [
    "from pymongo import MongoClient\n",
    "import pandas as pd\n",
    "from difflib import SequenceMatcher\n",
    "import matplotlib.pyplot as plt\n",
    "\n",
    "#conexion a mongo\n",
    "client = MongoClient(\"mongodb://localhost:27017/\")\n",
    "db = client[\"financial_news\"]\n",
    "collection = db[\"articles\"]\n",
    "clean_collection = db[\"articles_clean\"]"
   ]
  },
  {
   "cell_type": "code",
   "execution_count": 118,
   "id": "dbe24c46",
   "metadata": {},
   "outputs": [
    {
     "name": "stdout",
     "output_type": "stream",
     "text": [
      "Initial dataset info:\n",
      "<class 'pandas.core.frame.DataFrame'>\n",
      "RangeIndex: 150 entries, 0 to 149\n",
      "Data columns (total 10 columns):\n",
      " #   Column        Non-Null Count  Dtype         \n",
      "---  ------        --------------  -----         \n",
      " 0   _id           150 non-null    object        \n",
      " 1   id            150 non-null    object        \n",
      " 2   title         150 non-null    object        \n",
      " 3   description   138 non-null    object        \n",
      " 4   content       150 non-null    object        \n",
      " 5   url           150 non-null    object        \n",
      " 6   source        150 non-null    object        \n",
      " 7   published_at  150 non-null    datetime64[ns]\n",
      " 8   collected_at  150 non-null    datetime64[ns]\n",
      " 9   extra         150 non-null    object        \n",
      "dtypes: datetime64[ns](2), object(8)\n",
      "memory usage: 11.8+ KB\n"
     ]
    },
    {
     "data": {
      "application/vnd.microsoft.datawrangler.viewer.v0+json": {
       "columns": [
        {
         "name": "index",
         "rawType": "int64",
         "type": "integer"
        },
        {
         "name": "_id",
         "rawType": "object",
         "type": "unknown"
        },
        {
         "name": "id",
         "rawType": "object",
         "type": "string"
        },
        {
         "name": "title",
         "rawType": "object",
         "type": "string"
        },
        {
         "name": "description",
         "rawType": "object",
         "type": "string"
        },
        {
         "name": "content",
         "rawType": "object",
         "type": "string"
        },
        {
         "name": "url",
         "rawType": "object",
         "type": "string"
        },
        {
         "name": "source",
         "rawType": "object",
         "type": "string"
        },
        {
         "name": "published_at",
         "rawType": "datetime64[ns]",
         "type": "datetime"
        },
        {
         "name": "collected_at",
         "rawType": "datetime64[ns]",
         "type": "datetime"
        },
        {
         "name": "extra",
         "rawType": "object",
         "type": "unknown"
        }
       ],
       "ref": "ebb28654-6209-4265-904e-dc2c7eea3610",
       "rows": [
        [
         "0",
         "68b25a179f46408f5018cdc8",
         "b1d8a2b23538d1136045063c70c0e4bf",
         "Bitcoin Flash Crash Roils Crypto Market",
         "Did a single whale disrupt the crypto ocean?",
         "Crypto prices dipped Monday following a so-called flash crash of Bitcoin on Sunday. And while Ethereum dipped as well, the second most popular cryptocurrency is still up significantly on the month.\r\n… [+3991 chars]",
         "https://gizmodo.com/bitcoin-price-flash-crash-ether-thiel-2000647613",
         "Gizmodo.com",
         "2025-08-25 17:50:49",
         "2025-08-29 22:55:35.344000",
         "{'author': 'Matt Novak'}"
        ],
        [
         "1",
         "68b25a179f46408f5018cdc9",
         "3bdc3edfc897bc95f271a46835cf1403",
         "Trump Turns 401(k)s Into Crypto Machines",
         "A new executive order could funnel billions from American retirement accounts into Bitcoin and other digital assets, a massive win for the crypto industry and a huge new risk for your savings.",
         "President Donald Trump, who has rebranded himself as one of the worlds most powerful crypto advocates, has just signed an executive order that could reshape Americans retirement investing. For the fi… [+4162 chars]",
         "https://gizmodo.com/trump-turns-401ks-into-crypto-machines-2000640458",
         "Gizmodo.com",
         "2025-08-07 23:22:10",
         "2025-08-29 22:55:35.344000",
         "{'author': 'Luc Olinga'}"
        ],
        [
         "2",
         "68b25a179f46408f5018cdca",
         "2fb8199562f60a5c2f2e727bcbd79d96",
         "Donald Trump Orders Crackdown on Politically-Motivated ‘Debanking’",
         "In a new executive order, the US president has called on federal regulators to investigate and punish banks for alleged discrimination against conservatives, Christians and certain types of business.",
         "Carter termed this alleged discrimination campaign Operation Chokepoint 2.0, in reference to an Obama-era antifraud program under which US officials reportedly discouraged banks from dealing with por… [+3748 chars]",
         "https://www.wired.com/story/donald-trump-orders-crackdown-on-politically-motivated-debanking/",
         "Wired",
         "2025-08-08 07:02:49",
         "2025-08-29 22:55:35.344000",
         "{'author': 'Joel Khalili'}"
        ],
        [
         "3",
         "68b25a179f46408f5018cdcb",
         "8b052c32e6c92d817202f538c62481e2",
         "El Salvador’s Crypto President Could Stay in Power for Decades After Changes to Constitution",
         "Trump's buddy in Central America may become a dictator for life.",
         "El Salvador’s Legislative Assembly approved changes to the country’s constitution on Thursday that will extend presidential terms from five years to six and abolish term limits. That means President … [+3804 chars]",
         "https://gizmodo.com/el-salvadors-crypto-president-could-stay-in-power-for-decades-after-changes-to-constitution-2000637886",
         "Gizmodo.com",
         "2025-08-01 18:50:12",
         "2025-08-29 22:55:35.344000",
         "{'author': 'Matt Novak'}"
        ],
        [
         "4",
         "68b25a179f46408f5018cdcc",
         "0d965d457d882086abe7a93a0afea96b",
         "“We Miss All the Trains to Get Rich”: The Real Story of Crypto and the Black Community",
         "I went to a journalism convention expecting to talk about AI and politics. Instead, a chance encounter with a 24-year-old leader revealed a devastating truth about who gets left behind.",
         "Ive been at the National Association of Black Journalists (NABJ) Annual Convention in Cleveland since August 6. I came expecting to hear about the state of our industry under Donald Trump’s second pr… [+6039 chars]",
         "https://gizmodo.com/we-miss-all-the-trains-to-get-rich-the-real-story-of-crypto-and-the-black-community-2000640036",
         "Gizmodo.com",
         "2025-08-07 15:23:51",
         "2025-08-29 22:55:35.344000",
         "{'author': 'Luc Olinga'}"
        ]
       ],
       "shape": {
        "columns": 10,
        "rows": 5
       }
      },
      "text/html": [
       "<div>\n",
       "<style scoped>\n",
       "    .dataframe tbody tr th:only-of-type {\n",
       "        vertical-align: middle;\n",
       "    }\n",
       "\n",
       "    .dataframe tbody tr th {\n",
       "        vertical-align: top;\n",
       "    }\n",
       "\n",
       "    .dataframe thead th {\n",
       "        text-align: right;\n",
       "    }\n",
       "</style>\n",
       "<table border=\"1\" class=\"dataframe\">\n",
       "  <thead>\n",
       "    <tr style=\"text-align: right;\">\n",
       "      <th></th>\n",
       "      <th>_id</th>\n",
       "      <th>id</th>\n",
       "      <th>title</th>\n",
       "      <th>description</th>\n",
       "      <th>content</th>\n",
       "      <th>url</th>\n",
       "      <th>source</th>\n",
       "      <th>published_at</th>\n",
       "      <th>collected_at</th>\n",
       "      <th>extra</th>\n",
       "    </tr>\n",
       "  </thead>\n",
       "  <tbody>\n",
       "    <tr>\n",
       "      <th>0</th>\n",
       "      <td>68b25a179f46408f5018cdc8</td>\n",
       "      <td>b1d8a2b23538d1136045063c70c0e4bf</td>\n",
       "      <td>Bitcoin Flash Crash Roils Crypto Market</td>\n",
       "      <td>Did a single whale disrupt the crypto ocean?</td>\n",
       "      <td>Crypto prices dipped Monday following a so-cal...</td>\n",
       "      <td>https://gizmodo.com/bitcoin-price-flash-crash-...</td>\n",
       "      <td>Gizmodo.com</td>\n",
       "      <td>2025-08-25 17:50:49</td>\n",
       "      <td>2025-08-29 22:55:35.344</td>\n",
       "      <td>{'author': 'Matt Novak'}</td>\n",
       "    </tr>\n",
       "    <tr>\n",
       "      <th>1</th>\n",
       "      <td>68b25a179f46408f5018cdc9</td>\n",
       "      <td>3bdc3edfc897bc95f271a46835cf1403</td>\n",
       "      <td>Trump Turns 401(k)s Into Crypto Machines</td>\n",
       "      <td>A new executive order could funnel billions fr...</td>\n",
       "      <td>President Donald Trump, who has rebranded hims...</td>\n",
       "      <td>https://gizmodo.com/trump-turns-401ks-into-cry...</td>\n",
       "      <td>Gizmodo.com</td>\n",
       "      <td>2025-08-07 23:22:10</td>\n",
       "      <td>2025-08-29 22:55:35.344</td>\n",
       "      <td>{'author': 'Luc Olinga'}</td>\n",
       "    </tr>\n",
       "    <tr>\n",
       "      <th>2</th>\n",
       "      <td>68b25a179f46408f5018cdca</td>\n",
       "      <td>2fb8199562f60a5c2f2e727bcbd79d96</td>\n",
       "      <td>Donald Trump Orders Crackdown on Politically-M...</td>\n",
       "      <td>In a new executive order, the US president has...</td>\n",
       "      <td>Carter termed this alleged discrimination camp...</td>\n",
       "      <td>https://www.wired.com/story/donald-trump-order...</td>\n",
       "      <td>Wired</td>\n",
       "      <td>2025-08-08 07:02:49</td>\n",
       "      <td>2025-08-29 22:55:35.344</td>\n",
       "      <td>{'author': 'Joel Khalili'}</td>\n",
       "    </tr>\n",
       "    <tr>\n",
       "      <th>3</th>\n",
       "      <td>68b25a179f46408f5018cdcb</td>\n",
       "      <td>8b052c32e6c92d817202f538c62481e2</td>\n",
       "      <td>El Salvador’s Crypto President Could Stay in P...</td>\n",
       "      <td>Trump's buddy in Central America may become a ...</td>\n",
       "      <td>El Salvador’s Legislative Assembly approved ch...</td>\n",
       "      <td>https://gizmodo.com/el-salvadors-crypto-presid...</td>\n",
       "      <td>Gizmodo.com</td>\n",
       "      <td>2025-08-01 18:50:12</td>\n",
       "      <td>2025-08-29 22:55:35.344</td>\n",
       "      <td>{'author': 'Matt Novak'}</td>\n",
       "    </tr>\n",
       "    <tr>\n",
       "      <th>4</th>\n",
       "      <td>68b25a179f46408f5018cdcc</td>\n",
       "      <td>0d965d457d882086abe7a93a0afea96b</td>\n",
       "      <td>“We Miss All the Trains to Get Rich”: The Real...</td>\n",
       "      <td>I went to a journalism convention expecting to...</td>\n",
       "      <td>Ive been at the National Association of Black ...</td>\n",
       "      <td>https://gizmodo.com/we-miss-all-the-trains-to-...</td>\n",
       "      <td>Gizmodo.com</td>\n",
       "      <td>2025-08-07 15:23:51</td>\n",
       "      <td>2025-08-29 22:55:35.344</td>\n",
       "      <td>{'author': 'Luc Olinga'}</td>\n",
       "    </tr>\n",
       "  </tbody>\n",
       "</table>\n",
       "</div>"
      ],
      "text/plain": [
       "                        _id                                id  \\\n",
       "0  68b25a179f46408f5018cdc8  b1d8a2b23538d1136045063c70c0e4bf   \n",
       "1  68b25a179f46408f5018cdc9  3bdc3edfc897bc95f271a46835cf1403   \n",
       "2  68b25a179f46408f5018cdca  2fb8199562f60a5c2f2e727bcbd79d96   \n",
       "3  68b25a179f46408f5018cdcb  8b052c32e6c92d817202f538c62481e2   \n",
       "4  68b25a179f46408f5018cdcc  0d965d457d882086abe7a93a0afea96b   \n",
       "\n",
       "                                               title  \\\n",
       "0            Bitcoin Flash Crash Roils Crypto Market   \n",
       "1           Trump Turns 401(k)s Into Crypto Machines   \n",
       "2  Donald Trump Orders Crackdown on Politically-M...   \n",
       "3  El Salvador’s Crypto President Could Stay in P...   \n",
       "4  “We Miss All the Trains to Get Rich”: The Real...   \n",
       "\n",
       "                                         description  \\\n",
       "0       Did a single whale disrupt the crypto ocean?   \n",
       "1  A new executive order could funnel billions fr...   \n",
       "2  In a new executive order, the US president has...   \n",
       "3  Trump's buddy in Central America may become a ...   \n",
       "4  I went to a journalism convention expecting to...   \n",
       "\n",
       "                                             content  \\\n",
       "0  Crypto prices dipped Monday following a so-cal...   \n",
       "1  President Donald Trump, who has rebranded hims...   \n",
       "2  Carter termed this alleged discrimination camp...   \n",
       "3  El Salvador’s Legislative Assembly approved ch...   \n",
       "4  Ive been at the National Association of Black ...   \n",
       "\n",
       "                                                 url       source  \\\n",
       "0  https://gizmodo.com/bitcoin-price-flash-crash-...  Gizmodo.com   \n",
       "1  https://gizmodo.com/trump-turns-401ks-into-cry...  Gizmodo.com   \n",
       "2  https://www.wired.com/story/donald-trump-order...        Wired   \n",
       "3  https://gizmodo.com/el-salvadors-crypto-presid...  Gizmodo.com   \n",
       "4  https://gizmodo.com/we-miss-all-the-trains-to-...  Gizmodo.com   \n",
       "\n",
       "         published_at            collected_at                       extra  \n",
       "0 2025-08-25 17:50:49 2025-08-29 22:55:35.344    {'author': 'Matt Novak'}  \n",
       "1 2025-08-07 23:22:10 2025-08-29 22:55:35.344    {'author': 'Luc Olinga'}  \n",
       "2 2025-08-08 07:02:49 2025-08-29 22:55:35.344  {'author': 'Joel Khalili'}  \n",
       "3 2025-08-01 18:50:12 2025-08-29 22:55:35.344    {'author': 'Matt Novak'}  \n",
       "4 2025-08-07 15:23:51 2025-08-29 22:55:35.344    {'author': 'Luc Olinga'}  "
      ]
     },
     "execution_count": 118,
     "metadata": {},
     "output_type": "execute_result"
    }
   ],
   "source": [
    "docs = list(collection.find())\n",
    "df = pd.DataFrame(docs)\n",
    "\n",
    "print(\"Initial dataset info:\")\n",
    "df.info()\n",
    "df.head()"
   ]
  },
  {
   "cell_type": "markdown",
   "id": "55829b50",
   "metadata": {},
   "source": [
    "# Limpieza"
   ]
  },
  {
   "cell_type": "code",
   "execution_count": 119,
   "id": "ef7e355d",
   "metadata": {},
   "outputs": [
    {
     "data": {
      "application/vnd.microsoft.datawrangler.viewer.v0+json": {
       "columns": [
        {
         "name": "index",
         "rawType": "object",
         "type": "string"
        },
        {
         "name": "content_length",
         "rawType": "float64",
         "type": "float"
        }
       ],
       "ref": "f071edc5-301c-4b02-992f-eab5164e5644",
       "rows": [
        [
         "count",
         "150.0"
        ],
        [
         "mean",
         "1172.3733333333332"
        ],
        [
         "std",
         "1963.1968469022156"
        ],
        [
         "min",
         "57.0"
        ],
        [
         "25%",
         "214.0"
        ],
        [
         "50%",
         "214.0"
        ],
        [
         "75%",
         "215.0"
        ],
        [
         "max",
         "8239.0"
        ]
       ],
       "shape": {
        "columns": 1,
        "rows": 8
       }
      },
      "text/plain": [
       "count     150.000000\n",
       "mean     1172.373333\n",
       "std      1963.196847\n",
       "min        57.000000\n",
       "25%       214.000000\n",
       "50%       214.000000\n",
       "75%       215.000000\n",
       "max      8239.000000\n",
       "Name: content_length, dtype: float64"
      ]
     },
     "execution_count": 119,
     "metadata": {},
     "output_type": "execute_result"
    }
   ],
   "source": [
    "df[\"content_length\"] = df[\"content\"].fillna(\"\").str.len()\n",
    "df[\"content_length\"].describe()"
   ]
  },
  {
   "cell_type": "code",
   "execution_count": 120,
   "id": "d090baac",
   "metadata": {},
   "outputs": [],
   "source": [
    "df = df[df[\"content_length\"] > 150]"
   ]
  },
  {
   "cell_type": "code",
   "execution_count": 121,
   "id": "e4517808",
   "metadata": {},
   "outputs": [
    {
     "name": "stdout",
     "output_type": "stream",
     "text": [
      "Removed 2 exact duplicates.\n"
     ]
    }
   ],
   "source": [
    "initial_count = len(df)\n",
    "df = df.drop_duplicates(subset='id')\n",
    "print(f\"Removed {initial_count - len(df)} exact duplicates.\")"
   ]
  },
  {
   "cell_type": "code",
   "execution_count": 122,
   "id": "c6710bb4",
   "metadata": {},
   "outputs": [],
   "source": [
    "df[\"published_at\"] = pd.to_datetime(df[\"published_at\"], errors=\"coerce\")\n",
    "df = df[df[\"published_at\"].notna()]"
   ]
  },
  {
   "cell_type": "code",
   "execution_count": 123,
   "id": "e7ccf43d",
   "metadata": {},
   "outputs": [
    {
     "name": "stdout",
     "output_type": "stream",
     "text": [
      "\n",
      "Source counts:\n",
      "source\n",
      "Forbes                    36\n",
      "Yahoo Entertainment       19\n",
      "Gizmodo.com               14\n",
      "CoinOtag                  11\n",
      "Cryptopolitan              8\n",
      "Bitcoin World              7\n",
      "BitcoinSistemi             4\n",
      "NewsBTC                    4\n",
      "TheStreet                  4\n",
      "Dlnews.com                 4\n",
      "Bitcoinist                 3\n",
      "Business Insider           3\n",
      "TimesTabloid               3\n",
      "The Coin Rise              3\n",
      "CoinDesk                   3\n",
      "Biztoc.com                 2\n",
      "Barchart.com               2\n",
      "TechRadar                  1\n",
      "Slate Magazine             1\n",
      "R-bloggers.com             1\n",
      "Wired                      1\n",
      "USA Today                  1\n",
      "Substack.com               1\n",
      "TMZ                        1\n",
      "Coinspeaker                1\n",
      "AppleInsider               1\n",
      "Kotaku                     1\n",
      "Calculatedriskblog.com     1\n",
      "Bitcoinke.io               1\n",
      "Bitcoin.com                1\n",
      "Name: count, dtype: int64\n"
     ]
    }
   ],
   "source": [
    "print(\"\\nSource counts:\")\n",
    "print(df[\"source\"].value_counts())"
   ]
  },
  {
   "cell_type": "code",
   "execution_count": 129,
   "id": "7b768f86",
   "metadata": {},
   "outputs": [
    {
     "name": "stdout",
     "output_type": "stream",
     "text": [
      "\n",
      "Published at range: 2025-07-29 01:01:03 - 2025-08-29 22:46:55\n"
     ]
    }
   ],
   "source": [
    "print(\"\\nPublished at range:\", df[\"published_at\"].min(), \"-\", df[\"published_at\"].max())"
   ]
  },
  {
   "cell_type": "code",
   "execution_count": 130,
   "id": "66c70da0",
   "metadata": {},
   "outputs": [
    {
     "name": "stdout",
     "output_type": "stream",
     "text": [
      "Inserted 143 clean articles into MongoDB collection 'articles_clean'\n"
     ]
    }
   ],
   "source": [
    "clean_collection.insert_many(df.to_dict('records'))\n",
    "print(f\"Inserted {len(df)} clean articles into MongoDB collection 'articles_clean'\")"
   ]
  }
 ],
 "metadata": {
  "kernelspec": {
   "display_name": "base",
   "language": "python",
   "name": "python3"
  },
  "language_info": {
   "codemirror_mode": {
    "name": "ipython",
    "version": 3
   },
   "file_extension": ".py",
   "mimetype": "text/x-python",
   "name": "python",
   "nbconvert_exporter": "python",
   "pygments_lexer": "ipython3",
   "version": "3.11.9"
  }
 },
 "nbformat": 4,
 "nbformat_minor": 5
}
